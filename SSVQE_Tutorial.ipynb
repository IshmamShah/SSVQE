{
  "nbformat": 4,
  "nbformat_minor": 0,
  "metadata": {
    "colab": {
      "name": "SSVQE_Tutorial.ipynb",
      "provenance": [],
      "collapsed_sections": []
    },
    "kernelspec": {
      "display_name": "Python 3",
      "language": "python",
      "name": "python3"
    },
    "language_info": {
      "codemirror_mode": {
        "name": "ipython",
        "version": 3
      },
      "file_extension": ".py",
      "mimetype": "text/x-python",
      "name": "python",
      "nbconvert_exporter": "python",
      "pygments_lexer": "ipython3",
      "version": "3.8.8"
    }
  },
  "cells": [
    {
      "cell_type": "markdown",
      "metadata": {
        "id": "UzynS1itG3Pi"
      },
      "source": [
        "# Subspace-Search Variational Quantum Eigensolver(SSVQE)\n",
        "\n",
        "Authors: Shah Ishmam Mohtashim, Turbasu Chatterjee, Arnav Das\n",
        "\n",
        "*All are equally contributing authors*"
      ]
    },
    {
      "cell_type": "markdown",
      "metadata": {
        "id": "MzNHaK5LG3Po"
      },
      "source": [
        "## About the SSVQE\n",
        "\n",
        "\n",
        "The variational quantum eigensolver (VQE) is an algorithm for searching the [ground state](https://en.wikipedia.org/wiki/Ground_state) of a quantum system. The Variational Quantum Eigensolver (VQE) is a flagship algorithm for quantum chemistry using near-term quantum computers. It uses the [Ritz variational principle](https://en.wikipedia.org/wiki/Ritz_method). In addition to the ground state, there are also phenomena such as [photoresponse](https://en.wiktionary.org/wiki/photoresponse) that are difficult to describe without the [excited states](https://en.wikipedia.org/wiki/Excited_state). Subspace-search VQE is used to find the excited states of a quantum system.\n",
        "\n",
        "\n",
        "The SSVQE uses a simple technique to find the excited energy states. Using the appropriate [ansatz](https://en.wikipedia.org/wiki/Ansatz), VQE transforms the [basis state](https://en.wikipedia.org/wiki/Quantum_state#Basis_states_of_one-particle_systems) into the ground state. All quantum computing transformations are [unitary](https://en.wikipedia.org/wiki/Unitary_transformation). Unitary transformations maintains the angles between vectors, so orthogonal states before transformations remains as orthognal states after transformation. So, SSVQE transforms |0⋯0⟩ to the ground state, and another orthogonal basis state |0⋯1⟩ to the first excited state and so on. This method bypasses the need for a \"swap test\" which is necessary to measure the inner product between the states to check orthogonality. Bypassing the swap test means that the quantum circuit can constructed with lower number of SWAP gates resulting in a shallower efficent quantum circuit. Hence, the overall computational time and total error becomes lower. So, SSVQEs are advantageous for the current [NISQ devices](https://en.wikipedia.org/wiki/NISQ_computing).\n",
        "\n",
        "As a demonstration, the weighted SSVQE is used to find out the excited states of a [Transverse Ising model](https://en.wikipedia.org/wiki/Transverse-field_Ising_model) with 4 spins and that of the Hydrogen molecule."
      ]
    },
    {
      "cell_type": "code",
      "metadata": {
        "id": "4l7GGMhynZH0"
      },
      "source": [
        "# Importing the necessary libraries\n",
        "\n",
        "from pennylane import numpy as np\n",
        "import networkx as nx\n",
        "import matplotlib.pyplot as plt\n",
        "from math import pi\n",
        " \n",
        "import pennylane as qml\n",
        "from pennylane.templates import RandomLayers\n",
        "from pennylane.init import random_layers_uniform\n",
        "from pennylane import broadcast\n",
        "from pennylane import expval, var, device"
      ],
      "execution_count": null,
      "outputs": []
    },
    {
      "cell_type": "markdown",
      "metadata": {
        "id": "BKCsY_H7If6r"
      },
      "source": [
        "##Overview of the SSVQE Algorithm\n",
        "\n",
        "The procedures for SSVQE is as following:\n",
        "\n",
        "1) Preparation of k initial states $\\{\\left|\\varphi_i\\right>\\}_{i=0}^{k-1}$ orthogonal to each other.\n",
        "\n",
        "2) Construct a parametrized quantum circuit $U(\\theta)$ \n",
        "\n",
        "3) Minimize $L(\\theta)=\\sum_i w_i \\left<\\psi_i(\\theta)\\left|H\\right|\\psi_i(\\theta)\\right>$. Here, $w_i$ is the weight. "
      ]
    },
    {
      "cell_type": "markdown",
      "metadata": {
        "id": "xwrvghM7KfSy"
      },
      "source": [
        "First, we build the [Hamiltonian](https://en.wikipedia.org/wiki/Hamiltonian_(function)). Next, we design the ansatz with the orthogonal basis states, and the cost function to evaluate the expectation value of the Hamiltonian. Finally, we select a classical optimizer, initialize the circuit parameters, and run the SSVQE algorithm using a PennyLane simulator."
      ]
    },
    {
      "cell_type": "markdown",
      "metadata": {
        "id": "gvEiqtrpRX0T"
      },
      "source": [
        "Here we show 2 examples, one for __*Transverse Ising Model*__ and one for __*Lowest energy state of $\\mathrm{H}_2$ molecule*__"
      ]
    },
    {
      "cell_type": "markdown",
      "metadata": {
        "id": "R_p6cuHYI5S6"
      },
      "source": [
        "# SSVQE for the Transverse Ising Model\n",
        "\n",
        "Our Hamiltonian is given by $H = a \\sum_{i=1}^{N}X_i + J \\sum_{\\langle i,j \\rangle}^{N} Z_i Z_j$\n",
        "\n",
        "Here, The [Pauli X](https://en.wikipedia.org/wiki/Pauli_matrices) term signifies the Transverse Field, [Pauli Z](https://en.wikipedia.org/wiki/Pauli_matrices) term denotes the Ising Spins, where each spin can be 1 or -1 and J is the nearest neighbour interaction strength term.\n",
        "\n",
        "The simulation is done for N=4 spins."
      ]
    },
    {
      "cell_type": "code",
      "metadata": {
        "id": "_BeaduifoZXL"
      },
      "source": [
        "H =  qml.PauliZ(0) @ qml.PauliZ(1) + qml.PauliZ(1) @ qml.PauliZ(2) + qml.PauliZ(2) @ qml.PauliZ(3)  + qml.PauliX(0) + qml.PauliX(1) + qml.PauliX(2) + qml.PauliX(3)"
      ],
      "execution_count": null,
      "outputs": []
    },
    {
      "cell_type": "markdown",
      "metadata": {
        "id": "yQEpKsGJN1kD"
      },
      "source": [
        "We define PennyLane’s standard qubit simulator as the device.\n",
        "\n",
        "\n",
        "\n"
      ]
    },
    {
      "cell_type": "code",
      "metadata": {
        "id": "sUvESdVSoigT"
      },
      "source": [
        "energies = np.zeros(2)\n",
        "\n",
        "# Get the number of qubits in the Hamiltonian\n",
        "num_qubits = len(H.wires)\n",
        " \n",
        "# Initialize the device\n",
        "dev = qml.device('default.qubit', wires=num_qubits)"
      ],
      "execution_count": null,
      "outputs": []
    },
    {
      "cell_type": "markdown",
      "metadata": {
        "id": "1GxoAdp3MFoC"
      },
      "source": [
        "##Ansatz for the weighted SSVQE"
      ]
    },
    {
      "cell_type": "markdown",
      "metadata": {
        "id": "YhdrUQlmHYQA"
      },
      "source": [
        "Here, The strongly entangling layer ansatz is defined as of [this paper](https://arxiv.org/abs/1804.00633). It consists of single qubit rotations and entanglers along with weights pertaining to each layer. On top of that, for the SSVQE to correctly function, a Pauli X gate is appended to each state vector corresponding to a state in the ansatz layer. This ansatz is not the same as one in [the paper](https://arxiv.org/pdf/1810.09434.pdf) but works equally well."
      ]
    },
    {
      "cell_type": "code",
      "metadata": {
        "id": "eqKlyJZTA-aH"
      },
      "source": [
        "# Implements the weighted subspace search VQE [1810.09434]\n",
        " \n",
        "# This ansatz works well enough, it's not the same as the one in the paper though\n",
        "def ansatz(params, wires, state_idx=0):\n",
        "    # Need to prepare a different orthogonal state each time\n",
        "    qml.PauliX(wires=wires[state_idx])\n",
        "    qml.templates.StronglyEntanglingLayers(params, wires=wires)"
      ],
      "execution_count": null,
      "outputs": []
    },
    {
      "cell_type": "markdown",
      "metadata": {
        "id": "PdaWi8voOCj6"
      },
      "source": [
        "Defining the weights and the sum of the expectation values\n",
        "\n",
        "The total cost is a sum of expectation values for different orthogonal\n",
        "starting states. Essentially the ansatz turns into something that can\n",
        "simultaneously map the original starting states to the eigenstates.\n",
        "\n",
        "\n"
      ]
    },
    {
      "cell_type": "code",
      "metadata": {
        "id": "XbHK10I1A6Zh"
      },
      "source": [
        "single_cost = qml.ExpvalCost(ansatz, H, dev)\n",
        " \n",
        "# Weight vector - weights the different eigenstates in the cost function so\n",
        "# that it's the lowest ones that are found\n",
        "w = np.arange(num_qubits, 0, -1)"
      ],
      "execution_count": null,
      "outputs": []
    },
    {
      "cell_type": "code",
      "metadata": {
        "id": "shx9AQeaBOMQ"
      },
      "source": [
        "# The full cost - computes single_cost for each starting state\n",
        "def total_cost(params):\n",
        "    cost = 0\n",
        "    for state_idx in range(num_qubits):\n",
        "        cost += w[state_idx] * single_cost(params, state_idx=state_idx)\n",
        "    return cost"
      ],
      "execution_count": null,
      "outputs": []
    },
    {
      "cell_type": "markdown",
      "metadata": {
        "id": "gFjA6XgLJkcA"
      },
      "source": [
        "Here, we set up the optimizer and initialize the parameters for the variational quantum eigensolver. We have used the [Adam Optimizer](https://en.wikipedia.org/wiki/Stochastic_gradient_descent#Adam) and 8 layers of the ansatz as defined above."
      ]
    },
    {
      "cell_type": "code",
      "metadata": {
        "id": "BEgGgX5ZdsoO"
      },
      "source": [
        "# Set up a cost function and optimizer, and run the SSVQE\n",
        "opt = qml.AdamOptimizer(stepsize=0.05)\n",
        "max_iterations = 200\n",
        "costs = []\n",
        "\n",
        "# Initial parameters for the ansatz\n",
        "num_layers = 8\n",
        "params = np.random.uniform(low=0, high=2*np.pi, size=(num_layers, num_qubits, 3))"
      ],
      "execution_count": null,
      "outputs": []
    },
    {
      "cell_type": "markdown",
      "metadata": {
        "id": "3YSuyYeVKOVn"
      },
      "source": [
        "Now, we run our optmization. At each step of the optimizer, we evaluate the single cost functions for the corresponding eigenstates i.e. we evaluate the cost function for the ground energy and the first excited state. "
      ]
    },
    {
      "cell_type": "code",
      "metadata": {
        "id": "izolE6WUBTxv"
      },
      "source": [
        "# Optimize!\n",
        "Ising_callback_energies = []\n",
        "Ising_callback_energies_single_0 = []\n",
        "Ising_callback_energies_single_1 = []\n",
        "\n",
        "for _ in range(max_iterations):\n",
        "    params, prev_energy = opt.step_and_cost(total_cost, params)\n",
        "    energy = total_cost(params)\n",
        "    energy_ground_state = single_cost(params, state_idx=0)\n",
        "    energy_first_excited_state = single_cost(params, state_idx=1)\n",
        "    Ising_callback_energies_single_0.append(energy_ground_state)\n",
        "    Ising_callback_energies_single_1.append(energy_first_excited_state)\n",
        "    Ising_callback_energies.append(energy)"
      ],
      "execution_count": null,
      "outputs": []
    },
    {
      "cell_type": "code",
      "metadata": {
        "id": "TC0AvvQeBVhI"
      },
      "source": [
        "# After optimization, get the energies for the original starting states\n",
        "for state_idx in range(2):\n",
        "    energies[state_idx] = single_cost(params, state_idx=state_idx)"
      ],
      "execution_count": null,
      "outputs": []
    },
    {
      "cell_type": "code",
      "metadata": {
        "id": "p-NAI4DtBfq3"
      },
      "source": [
        "energies = \",\".join([str(E) for E in energies])"
      ],
      "execution_count": null,
      "outputs": []
    },
    {
      "cell_type": "markdown",
      "metadata": {
        "id": "IBr9iWopNQLx"
      },
      "source": [
        "The ground state energy and the first excited state are\n"
      ]
    },
    {
      "cell_type": "code",
      "metadata": {
        "id": "2qwZtGJoDf4n",
        "colab": {
          "base_uri": "https://localhost:8080/",
          "height": 35
        },
        "outputId": "13ad3873-6fe7-451f-e023-ee000ffc1afb"
      },
      "source": [
        "energies"
      ],
      "execution_count": null,
      "outputs": [
        {
          "output_type": "execute_result",
          "data": {
            "application/vnd.google.colaboratory.intrinsic+json": {
              "type": "string"
            },
            "text/plain": [
              "'-4.68033817291746,-3.9839307562953863'"
            ]
          },
          "metadata": {},
          "execution_count": 12
        }
      ]
    },
    {
      "cell_type": "markdown",
      "metadata": {
        "id": "HXPR6o-JKomH"
      },
      "source": [
        "##Plotting the energy levels of the Transverse Ising Model as it is subjected to the SSVQE"
      ]
    },
    {
      "cell_type": "code",
      "metadata": {
        "colab": {
          "base_uri": "https://localhost:8080/",
          "height": 513
        },
        "id": "CLV2I_kRu5se",
        "outputId": "a55628b6-f23e-4540-9210-98de0f5f50bc"
      },
      "source": [
        "# corresponding y axis values\n",
        "x = [*range(0,200)]\n",
        "\n",
        "y =  Ising_callback_energies\n",
        "\n",
        "plt.figure(figsize=(12, 8)) \n",
        "# plotting the points \n",
        "plt.plot(x, y)\n",
        "  \n",
        "# naming the x axis\n",
        "plt.xlabel('Iteration')\n",
        "# naming the y axis\n",
        "plt.ylabel('Energy')\n",
        "  \n",
        "# giving a title to my graph\n",
        "plt.title('Energy of the whole system of Ising Model, subjected to a VQE')\n",
        "  \n",
        "# function to show the plot\n",
        "plt.show()"
      ],
      "execution_count": null,
      "outputs": [
        {
          "output_type": "display_data",
          "data": {
            "image/png": "[encoded data removed]",
            "text/plain": [
              "<Figure size 864x576 with 1 Axes>"
            ]
          },
          "metadata": {
            "needs_background": "light"
          }
        }
      ]
    },
    {
      "cell_type": "code",
      "metadata": {
        "colab": {
          "base_uri": "https://localhost:8080/",
          "height": 513
        },
        "id": "pCMpJLyWvZE-",
        "outputId": "e4ed0887-0352-4cec-92e2-338c7c912a86"
      },
      "source": [
        "# corresponding y axis values\n",
        "y =  Ising_callback_energies_single_0\n",
        "\n",
        "plt.figure(figsize=(12, 8)) \n",
        "# plotting the points \n",
        "plt.plot(x, y)\n",
        "  \n",
        "# naming the x axis\n",
        "plt.xlabel('Iteration')\n",
        "# naming the y axis\n",
        "plt.ylabel('Energy')\n",
        "  \n",
        "# giving a title to my graph\n",
        "plt.title('Energy of the ground state of Ising Model, subjected to a VQE')\n",
        "  \n",
        "# function to show the plot\n",
        "plt.show()"
      ],
      "execution_count": null,
      "outputs": [
        {
          "output_type": "display_data",
          "data": {
            "image/png": "[encoded data removed]",
            "text/plain": [
              "<Figure size 864x576 with 1 Axes>"
            ]
          },
          "metadata": {
            "needs_background": "light"
          }
        }
      ]
    },
    {
      "cell_type": "code",
      "metadata": {
        "colab": {
          "base_uri": "https://localhost:8080/",
          "height": 513
        },
        "id": "W4hMXRzHvfHF",
        "outputId": "1e92c7ad-bf83-4290-d270-4c5fca347d6f"
      },
      "source": [
        "# corresponding y axis values\n",
        "y =  Ising_callback_energies_single_1\n",
        "\n",
        "plt.figure(figsize=(12, 8)) \n",
        "# plotting the points \n",
        "plt.plot(x, y)\n",
        "  \n",
        "# naming the x axis\n",
        "plt.xlabel('Iteration')\n",
        "# naming the y axis\n",
        "plt.ylabel('Energy')\n",
        "  \n",
        "# giving a title to my graph\n",
        "plt.title('Energy of the first excited state of Ising Model, subjected to a VQE')\n",
        "  \n",
        "# function to show the plot\n",
        "plt.show()"
      ],
      "execution_count": null,
      "outputs": [
        {
          "output_type": "display_data",
          "data": {
            "image/png": "[encoded data removed]",
            "text/plain": [
              "<Figure size 864x576 with 1 Axes>"
            ]
          },
          "metadata": {
            "needs_background": "light"
          }
        }
      ]
    },
    {
      "cell_type": "markdown",
      "metadata": {
        "id": "j_Hl31GbNR9B"
      },
      "source": [
        "#SSVQE for the $\\mathrm{H}_2$ molecule"
      ]
    },
    {
      "cell_type": "markdown",
      "metadata": {
        "id": "WbadzV7WL1Nh"
      },
      "source": [
        "Here, we have followed the exact same procedure as we have done for the Transverse Ising model simulation. The only difference is in building the Hamiltonian, which we have described as follows: "
      ]
    },
    {
      "cell_type": "markdown",
      "metadata": {
        "id": "594_9j7bNp0B"
      },
      "source": [
        "We have to load the structure of the molecule we want to simulate. This is done by specify the symbols of the constituent atoms and a one-dimensional array with the corresponding nuclear coordinates in atomic units. For this example, we load the $\\mathrm{H}_2$ molecule and its nuclear coordinates."
      ]
    },
    {
      "cell_type": "code",
      "metadata": {
        "id": "XeKYiuGxG3P5"
      },
      "source": [
        "symbols = [\"H\", \"H\"]\n",
        "coordinates = np.array([0.0, 0.0, -0.6614, 0.0, 0.0, 0.6614])"
      ],
      "execution_count": null,
      "outputs": []
    },
    {
      "cell_type": "markdown",
      "metadata": {
        "id": "fa2gvAI8OXri"
      },
      "source": [
        "The molecular hamiltonian is built with minimal basis set confiugation the number of qubits required for this simulation is displayed as well. We have four spin orbitals so we will need 4 qubits."
      ]
    },
    {
      "cell_type": "code",
      "metadata": {
        "id": "8tjVlMYtG3P5",
        "colab": {
          "base_uri": "https://localhost:8080/"
        },
        "outputId": "ed2f3b0a-fbc9-4216-8626-555010755845"
      },
      "source": [
        "h, qubits =  qml.qchem.molecular_hamiltonian(\n",
        "        symbols,\n",
        "        coordinates,\n",
        "        charge=0,\n",
        "        mult=1,\n",
        "        basis='sto-3g',\n",
        "        active_electrons=2,\n",
        "        active_orbitals=2\n",
        ")\n",
        "\n",
        "print(\"Number of qubits = \", qubits)\n",
        "print(\"The Hamiltonian is \", h)"
      ],
      "execution_count": null,
      "outputs": [
        {
          "output_type": "stream",
          "text": [
            "Number of qubits =  4\n",
            "The Hamiltonian is    (-0.2427450172749822) [Z2]\n",
            "+ (-0.2427450172749822) [Z3]\n",
            "+ (-0.04207254303152995) [I0]\n",
            "+ (0.17771358191549907) [Z0]\n",
            "+ (0.17771358191549919) [Z1]\n",
            "+ (0.12293330460167415) [Z0 Z2]\n",
            "+ (0.12293330460167415) [Z1 Z3]\n",
            "+ (0.16768338881432715) [Z0 Z3]\n",
            "+ (0.16768338881432715) [Z1 Z2]\n",
            "+ (0.17059759240560826) [Z0 Z1]\n",
            "+ (0.17627661476093917) [Z2 Z3]\n",
            "+ (-0.04475008421265302) [Y0 Y1 X2 X3]\n",
            "+ (-0.04475008421265302) [X0 X1 Y2 Y3]\n",
            "+ (0.04475008421265302) [Y0 X1 X2 Y3]\n",
            "+ (0.04475008421265302) [X0 Y1 Y2 X3]\n"
          ],
          "name": "stdout"
        }
      ]
    },
    {
      "cell_type": "markdown",
      "metadata": {
        "id": "XvSfv7W4PhCq"
      },
      "source": [
        "We define PennyLane’s standard qubit simulator as the device."
      ]
    },
    {
      "cell_type": "code",
      "metadata": {
        "id": "qEkwxfiK8VeO"
      },
      "source": [
        "energies = np.zeros(2)\n",
        "\n",
        "\n",
        "# Get the number of qubits in the Hamiltonian\n",
        "num_qubits = len(h.wires)\n",
        "\n",
        "# Initialize the device\n",
        "dev = qml.device('default.qubit', wires=num_qubits)"
      ],
      "execution_count": null,
      "outputs": []
    },
    {
      "cell_type": "markdown",
      "metadata": {
        "id": "_plGCcQgSEyC"
      },
      "source": [
        "Constructing the Ansatz for the subspace search VQE"
      ]
    },
    {
      "cell_type": "code",
      "metadata": {
        "id": "ytOXigIr8VhE"
      },
      "source": [
        "# Ansatz\n",
        "def ansatz(params, wires, state_idx=0):\n",
        "    # Need to prepare a different orthogonal state each time\n",
        "    qml.PauliX(wires=wires[state_idx])\n",
        "    qml.templates.StronglyEntanglingLayers(params, wires=wires)"
      ],
      "execution_count": null,
      "outputs": []
    },
    {
      "cell_type": "markdown",
      "metadata": {
        "id": "ReTY7a1-SY_c"
      },
      "source": [
        "Defining the weights and the sum of the expectation values\n"
      ]
    },
    {
      "cell_type": "code",
      "metadata": {
        "id": "jTL0Ravc8Vjs"
      },
      "source": [
        "single_cost = qml.ExpvalCost(ansatz, h, dev)\n",
        "w = np.arange(num_qubits, 0, -1)"
      ],
      "execution_count": null,
      "outputs": []
    },
    {
      "cell_type": "markdown",
      "metadata": {
        "id": "MrOdj0EySqEA"
      },
      "source": [
        "Defining the total cost for different orthogonal starting states.\n",
        "\n"
      ]
    },
    {
      "cell_type": "code",
      "metadata": {
        "id": "IMnQNz4w8VmU"
      },
      "source": [
        "# The full cost - computes single_cost for each starting state\n",
        "def total_cost(params):\n",
        "    cost = 0\n",
        "    for state_idx in range(num_qubits):\n",
        "        cost += w[state_idx] * single_cost(params, state_idx=state_idx)\n",
        "    return cost"
      ],
      "execution_count": null,
      "outputs": []
    },
    {
      "cell_type": "markdown",
      "metadata": {
        "id": "M5QLpiaaS9NP"
      },
      "source": [
        "Defining the optimizer, number of maximum iterations, number of layers, etc..."
      ]
    },
    {
      "cell_type": "code",
      "metadata": {
        "id": "Ggx6c1Ve8Vo9"
      },
      "source": [
        "# Set up a cost function and optimizer, and run the SSVQE\n",
        "opt = qml.AdamOptimizer(stepsize=0.05)\n",
        "max_iterations = 200\n",
        "costs = []\n",
        "\n",
        "# Initial parameters for the ansatz\n",
        "num_layers = 8\n",
        "params = np.random.uniform(low=0, high=2*np.pi, size=(num_layers, num_qubits, 3))"
      ],
      "execution_count": null,
      "outputs": []
    },
    {
      "cell_type": "markdown",
      "metadata": {
        "id": "1hL5uZP6TSka"
      },
      "source": [
        "And finally running the optimizer to evaluate the single cost functions for the corresponding eigenstates i.e. evaluating the cost function for the ground energy and the first excited state. "
      ]
    },
    {
      "cell_type": "code",
      "metadata": {
        "id": "FWvOqFk1VEXg"
      },
      "source": [
        "# Optimize!\n",
        "H2_callback_energies = []\n",
        "H2_callback_energies_single_0 = []\n",
        "H2_callback_energies_single_1 = []\n",
        "\n",
        "for _ in range(max_iterations):\n",
        "    params, prev_energy = opt.step_and_cost(total_cost, params)\n",
        "    energy = total_cost(params)\n",
        "    energy_ground_state = single_cost(params, state_idx=0)\n",
        "    energy_first_excited_state = single_cost(params, state_idx=1)\n",
        "    H2_callback_energies_single_0.append(energy_ground_state)\n",
        "    H2_callback_energies_single_1.append(energy_first_excited_state)\n",
        "    H2_callback_energies.append(energy)"
      ],
      "execution_count": null,
      "outputs": []
    },
    {
      "cell_type": "code",
      "metadata": {
        "id": "qxVhqnKG8h08"
      },
      "source": [
        "# After optimization, get the energies for the original starting states\n",
        "for state_idx in range(2):\n",
        "    energies[state_idx] = single_cost(params, state_idx=state_idx)"
      ],
      "execution_count": null,
      "outputs": []
    },
    {
      "cell_type": "code",
      "metadata": {
        "id": "LZvVszrl8h3l"
      },
      "source": [
        "energies = \",\".join([str(E) for E in energies])"
      ],
      "execution_count": null,
      "outputs": []
    },
    {
      "cell_type": "markdown",
      "metadata": {
        "id": "gBGGaiWvJcLM"
      },
      "source": [
        "The ground state energy and the first excited state energy are as follows:"
      ]
    },
    {
      "cell_type": "code",
      "metadata": {
        "id": "1alfmdpxhkgm",
        "colab": {
          "base_uri": "https://localhost:8080/",
          "height": 35
        },
        "outputId": "a132135b-cbda-460a-b15c-cd87793cc40b"
      },
      "source": [
        "energies"
      ],
      "execution_count": null,
      "outputs": [
        {
          "output_type": "execute_result",
          "data": {
            "application/vnd.google.colaboratory.intrinsic+json": {
              "type": "string"
            },
            "text/plain": [
              "'-1.1319253036176322,-0.49166488092901706'"
            ]
          },
          "metadata": {},
          "execution_count": 26
        }
      ]
    },
    {
      "cell_type": "markdown",
      "metadata": {
        "id": "ycBOHdOTLEWH"
      },
      "source": [
        "##Plotting the energy levels of the $H_2$ molecule as it is subjected to the SSVQE"
      ]
    },
    {
      "cell_type": "code",
      "metadata": {
        "colab": {
          "base_uri": "https://localhost:8080/",
          "height": 513
        },
        "id": "HOOYP59ulpCW",
        "outputId": "1c3d4c9f-944f-40c6-cd05-43cd702f1265"
      },
      "source": [
        "# importing the required module\n",
        "import matplotlib.pyplot as plt\n",
        "  \n",
        "# x axis values\n",
        "x = [*range(0,200)]\n",
        "# corresponding y axis values\n",
        "y =  H2_callback_energies\n",
        "\n",
        "plt.figure(figsize=(12, 8)) \n",
        "# plotting the points \n",
        "plt.plot(x, y)\n",
        "  \n",
        "# naming the x axis\n",
        "plt.xlabel('Iteration')\n",
        "# naming the y axis\n",
        "plt.ylabel('Energy')\n",
        "  \n",
        "# giving a title to my graph\n",
        "plt.title('Energy of the whole system of the H2 molecule, subjected to a VQE')\n",
        "  \n",
        "# function to show the plot\n",
        "plt.show()"
      ],
      "execution_count": null,
      "outputs": [
        {
          "output_type": "display_data",
          "data": {
            "image/png": "[encoded data removed]",
            "text/plain": [
              "<Figure size 864x576 with 1 Axes>"
            ]
          },
          "metadata": {
            "needs_background": "light"
          }
        }
      ]
    },
    {
      "cell_type": "code",
      "metadata": {
        "colab": {
          "base_uri": "https://localhost:8080/",
          "height": 513
        },
        "id": "bGLUxP4NmwZ_",
        "outputId": "b0549278-e0e2-424a-a347-38e4a9b32d49"
      },
      "source": [
        "# corresponding y axis values\n",
        "y =  H2_callback_energies_single_0\n",
        "\n",
        "plt.figure(figsize=(12, 8)) \n",
        "# plotting the points \n",
        "plt.plot(x, y)\n",
        "  \n",
        "# naming the x axis\n",
        "plt.xlabel('Iteration')\n",
        "# naming the y axis\n",
        "plt.ylabel('Energy')\n",
        "  \n",
        "# giving a title to my graph\n",
        "plt.title('Energy of the ground state of H2, subjected to a VQE')\n",
        "  \n",
        "# function to show the plot\n",
        "plt.show()"
      ],
      "execution_count": null,
      "outputs": [
        {
          "output_type": "display_data",
          "data": {
            "image/png": "[encoded data removed]",
            "text/plain": [
              "<Figure size 864x576 with 1 Axes>"
            ]
          },
          "metadata": {
            "needs_background": "light"
          }
        }
      ]
    },
    {
      "cell_type": "code",
      "metadata": {
        "colab": {
          "base_uri": "https://localhost:8080/",
          "height": 513
        },
        "id": "p_clHhWquodm",
        "outputId": "088ef247-0cf1-4961-b613-27b8d9749aaf"
      },
      "source": [
        "# corresponding y axis values\n",
        "y =  H2_callback_energies_single_1\n",
        "\n",
        "plt.figure(figsize=(12, 8)) \n",
        "# plotting the points \n",
        "plt.plot(x, y)\n",
        "  \n",
        "# naming the x axis\n",
        "plt.xlabel('Iteration')\n",
        "# naming the y axis\n",
        "plt.ylabel('Energy')\n",
        "  \n",
        "# giving a title to my graph\n",
        "plt.title('Energy of the first excited state of H2, subjected to a VQE')\n",
        "  \n",
        "# function to show the plot\n",
        "plt.show()"
      ],
      "execution_count": null,
      "outputs": [
        {
          "output_type": "display_data",
          "data": {
            "image/png": "[encoded data removed]",
            "text/plain": [
              "<Figure size 864x576 with 1 Axes>"
            ]
          },
          "metadata": {
            "needs_background": "light"
          }
        }
      ]
    }
  ]
}